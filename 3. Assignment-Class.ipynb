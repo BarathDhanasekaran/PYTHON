{
 "cells": [
  {
   "cell_type": "code",
   "execution_count": 9,
   "id": "5e2390e0-ef18-4c46-a88b-1b85cd6e5098",
   "metadata": {},
   "outputs": [],
   "source": [
    "class multiplefunctions():\n",
    "    def MarriageElegible():\n",
    "        gender = input(\"Enter your gender (Male/Female):\")\n",
    "        age=int(input(\"Your age:\"))\n",
    "        if(gender=='Male'):\n",
    "            if(age >=21):\n",
    "                 print('ELIGIBLE')\n",
    "            else:\n",
    "                 print('NOT ELIGIBLE')\n",
    "        elif(gender=='Female'):\n",
    "            if(age>=18):\n",
    "                 print('ELIGIBLE')\n",
    "            else:\n",
    "                 print('NOT ELIGIBLE')\n"
   ]
  },
  {
   "cell_type": "code",
   "execution_count": 10,
   "id": "688ff4f9-551e-480b-ac0f-9b3b0dd1af36",
   "metadata": {},
   "outputs": [
    {
     "name": "stdin",
     "output_type": "stream",
     "text": [
      "Enter your gender (Male/Female): Male\n",
      "Your age: 20\n"
     ]
    },
    {
     "name": "stdout",
     "output_type": "stream",
     "text": [
      "NOT ELIGIBLE\n"
     ]
    }
   ],
   "source": [
    "multiplefunctions.MarriageElegible()"
   ]
  },
  {
   "cell_type": "code",
   "execution_count": 13,
   "id": "620e2299-8b34-4eb4-86fc-3ae10fe78964",
   "metadata": {},
   "outputs": [],
   "source": [
    "class multiplefunctions():\n",
    "    def subfields():\n",
    "        print(\"Sub-field in AI are:\")\n",
    "        list=['Machine learning', 'Neural networks', 'vision', 'Robotics', 'speech processing', 'Natural Language processes']\n",
    "        for name in list:\n",
    "            print(name)"
   ]
  },
  {
   "cell_type": "code",
   "execution_count": 14,
   "id": "96506a21-93cf-4a62-98c6-32744945c174",
   "metadata": {},
   "outputs": [
    {
     "name": "stdout",
     "output_type": "stream",
     "text": [
      "Sub-field in AI are:\n",
      "Machine learning\n",
      "Neural networks\n",
      "vision\n",
      "Robotics\n",
      "speech processing\n",
      "Natural Language processes\n"
     ]
    }
   ],
   "source": [
    "multiplefunctions.subfields()"
   ]
  },
  {
   "cell_type": "code",
   "execution_count": 18,
   "id": "efcb910e-2f74-4ad2-9027-e925c33ca19c",
   "metadata": {},
   "outputs": [],
   "source": [
    "class multiplefunctions():\n",
    "    def value():\n",
    "        num=int(input(\"Enter a number:\"))\n",
    "        if((num%2)==0):\n",
    "            print(\"Even number\")\n",
    "        else:\n",
    "            print(\"odd number\")"
   ]
  },
  {
   "cell_type": "code",
   "execution_count": 20,
   "id": "0961617e-2fe8-4cbe-b5c9-4307f7f37ce1",
   "metadata": {},
   "outputs": [
    {
     "name": "stdin",
     "output_type": "stream",
     "text": [
      "Enter a number: 52452\n"
     ]
    },
    {
     "name": "stdout",
     "output_type": "stream",
     "text": [
      "Even number\n"
     ]
    }
   ],
   "source": [
    "multiplefunctions.value()"
   ]
  },
  {
   "cell_type": "code",
   "execution_count": 23,
   "id": "de222ffc-95e4-4b2f-9940-9f4b06d11e2c",
   "metadata": {},
   "outputs": [],
   "source": [
    "class multiplefunctions():\n",
    "    def MarriageElegible():\n",
    "        gender = input(\"Enter your gender (Male/Female):\")\n",
    "        age=int(input(\"Your age:\"))\n",
    "        if(gender=='Male'):\n",
    "            if(age >=21):\n",
    "                 print('ELIGIBLE')\n",
    "            else:\n",
    "                 print('NOT ELIGIBLE')\n",
    "        elif(gender=='Female'):\n",
    "            if(age>=18):\n",
    "                 print('ELIGIBLE')\n",
    "            else:\n",
    "                 print('NOT ELIGIBLE')"
   ]
  },
  {
   "cell_type": "code",
   "execution_count": 24,
   "id": "f3a38590-7a73-4069-a08d-a17d39e3a5e6",
   "metadata": {},
   "outputs": [
    {
     "name": "stdin",
     "output_type": "stream",
     "text": [
      "Enter your gender (Male/Female): Male\n",
      "Your age: 20\n"
     ]
    },
    {
     "name": "stdout",
     "output_type": "stream",
     "text": [
      "NOT ELIGIBLE\n"
     ]
    }
   ],
   "source": [
    "multiplefunctions.MarriageElegible()"
   ]
  },
  {
   "cell_type": "code",
   "execution_count": 25,
   "id": "01c2cb70-60b4-42f4-8c8d-90434f25ca02",
   "metadata": {},
   "outputs": [],
   "source": [
    "class multiplefunctions():\n",
    "    def percentage():\n",
    "        sub1=int(input(\"Subject1= \"))\n",
    "        sub2=int(input(\"Subject2= \"))\n",
    "        sub3=int(input(\"Subject3= \"))\n",
    "        sub4=int(input(\"Subject4= \"))\n",
    "        sub5=int(input(\"Subject5= \"))\n",
    "        Total = sub1+sub2+sub3+sub4+sub5\n",
    "        print(\"Total : \",sub1+sub2+sub3+sub4+sub5)\n",
    "        Percent = (Total / 500) * 100\n",
    "        print(\"Percentage : \",Percent)"
   ]
  },
  {
   "cell_type": "code",
   "execution_count": 26,
   "id": "c5ac154d-d312-4564-bc3b-fdf4285774fd",
   "metadata": {},
   "outputs": [
    {
     "name": "stdin",
     "output_type": "stream",
     "text": [
      "Subject1=  98\n",
      "Subject2=  87\n",
      "Subject3=  95\n",
      "Subject4=  95\n",
      "Subject5=  93\n"
     ]
    },
    {
     "name": "stdout",
     "output_type": "stream",
     "text": [
      "Total :  468\n",
      "Percentage :  93.60000000000001\n"
     ]
    }
   ],
   "source": [
    "multiplefunctions.percentage()"
   ]
  },
  {
   "cell_type": "code",
   "execution_count": 27,
   "id": "5e12b7d5-4adc-4ab9-8929-cc03c9ddf189",
   "metadata": {},
   "outputs": [],
   "source": [
    "class multiplefunctions():\n",
    "    def value():\n",
    "        num=int(input(\"Enter a number:\"))\n",
    "        if((num%2)==0):\n",
    "            print(\"Even number\")\n",
    "        else:\n",
    "            print(\"odd number\")"
   ]
  },
  {
   "cell_type": "code",
   "execution_count": 29,
   "id": "1525763c-7694-4ba0-a1af-9f385147f0a4",
   "metadata": {},
   "outputs": [
    {
     "name": "stdin",
     "output_type": "stream",
     "text": [
      "Enter a number: 52452\n"
     ]
    },
    {
     "name": "stdout",
     "output_type": "stream",
     "text": [
      "Even number\n"
     ]
    }
   ],
   "source": [
    "multiplefunctions.value()"
   ]
  },
  {
   "cell_type": "code",
   "execution_count": null,
   "id": "4eff4077-92e1-4d69-b333-e2e579e4c2cd",
   "metadata": {},
   "outputs": [],
   "source": []
  }
 ],
 "metadata": {
  "kernelspec": {
   "display_name": "Python 3 (ipykernel)",
   "language": "python",
   "name": "python3"
  },
  "language_info": {
   "codemirror_mode": {
    "name": "ipython",
    "version": 3
   },
   "file_extension": ".py",
   "mimetype": "text/x-python",
   "name": "python",
   "nbconvert_exporter": "python",
   "pygments_lexer": "ipython3",
   "version": "3.12.7"
  }
 },
 "nbformat": 4,
 "nbformat_minor": 5
}
