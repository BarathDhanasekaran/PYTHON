{
 "cells": [
  {
   "cell_type": "code",
   "execution_count": 26,
   "id": "60e2d8c3-b755-482f-b37e-a1604cdf1d96",
   "metadata": {},
   "outputs": [],
   "source": [
    "from multiplefunctions import multiplefunctions"
   ]
  },
  {
   "cell_type": "code",
   "execution_count": 21,
   "id": "fce54460-a6ad-494a-8816-74fdc8174248",
   "metadata": {},
   "outputs": [
    {
     "name": "stdout",
     "output_type": "stream",
     "text": [
      "Sub-field in AI are:\n",
      "Machine learning\n",
      "Neural networks\n",
      "vision\n",
      "Robotics\n",
      "speech processing\n",
      "Natural Language processes\n"
     ]
    }
   ],
   "source": [
    "multiplefunctions.subfields()"
   ]
  },
  {
   "cell_type": "code",
   "execution_count": 22,
   "id": "43b2dd4f-6fe7-4584-9c23-b9b32980eaa5",
   "metadata": {},
   "outputs": [
    {
     "name": "stdin",
     "output_type": "stream",
     "text": [
      "Enter your gender (Male/Female): Male\n",
      "Your age: 20\n"
     ]
    },
    {
     "name": "stdout",
     "output_type": "stream",
     "text": [
      "NOT ELIGIBLE\n"
     ]
    }
   ],
   "source": [
    "multiplefunctions.MarriageElegible()"
   ]
  },
  {
   "cell_type": "code",
   "execution_count": 23,
   "id": "a96152a7-855a-4df5-8423-40b4dae1c9d6",
   "metadata": {},
   "outputs": [
    {
     "name": "stdin",
     "output_type": "stream",
     "text": [
      "Subject1=  98\n",
      "Subject2=  87\n",
      "Subject3=  95\n",
      "Subject4=  95\n",
      "Subject5=  93\n"
     ]
    },
    {
     "name": "stdout",
     "output_type": "stream",
     "text": [
      "Total :  468\n",
      "Percentage :  93.60000000000001\n"
     ]
    }
   ],
   "source": [
    "multiplefunctions.percentage()"
   ]
  },
  {
   "cell_type": "code",
   "execution_count": null,
   "id": "8cda783e-e2e7-44cb-be84-3c2901babde7",
   "metadata": {},
   "outputs": [],
   "source": []
  }
 ],
 "metadata": {
  "kernelspec": {
   "display_name": "Python 3 (ipykernel)",
   "language": "python",
   "name": "python3"
  },
  "language_info": {
   "codemirror_mode": {
    "name": "ipython",
    "version": 3
   },
   "file_extension": ".py",
   "mimetype": "text/x-python",
   "name": "python",
   "nbconvert_exporter": "python",
   "pygments_lexer": "ipython3",
   "version": "3.12.7"
  }
 },
 "nbformat": 4,
 "nbformat_minor": 5
}
