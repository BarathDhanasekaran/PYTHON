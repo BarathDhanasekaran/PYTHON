{
 "cells": [
  {
   "cell_type": "code",
   "execution_count": 51,
   "id": "f5bc885b-cdf4-410a-aa83-2576246766be",
   "metadata": {},
   "outputs": [],
   "source": [
    "def value():\n",
    "    num=int(input(\"Enter a number:\"))\n",
    "    if((num%2)==0):\n",
    "        print(\"Even number\")\n",
    "    else:\n",
    "        print(\"odd number\")\n",
    "\n"
   ]
  },
  {
   "cell_type": "code",
   "execution_count": null,
   "id": "90c5a3d7-f59b-43be-9ecd-4e5bd04061df",
   "metadata": {},
   "outputs": [],
   "source": [
    "value()"
   ]
  },
  {
   "cell_type": "code",
   "execution_count": 27,
   "id": "3c24213e-532d-48af-9cf2-924195eb7330",
   "metadata": {},
   "outputs": [],
   "source": [
    "def subfields():\n",
    "    print(\"Sub-field in AI are:\")\n",
    "    list=['Machine learning', 'Neural networks', 'vision', 'Robotics', 'speech processing', 'Natural Language processes']\n",
    "    for name in list:\n",
    "        print(name)"
   ]
  },
  {
   "cell_type": "code",
   "execution_count": 28,
   "id": "b48825da-0b8c-4bc8-bf1d-bcb7c6d2436e",
   "metadata": {},
   "outputs": [
    {
     "name": "stdout",
     "output_type": "stream",
     "text": [
      "Sub-field in AI are:\n",
      "Machine learning\n",
      "Neural networks\n",
      "vision\n",
      "Robotics\n",
      "speech processing\n",
      "Natural Language processes\n"
     ]
    }
   ],
   "source": [
    "subfields()"
   ]
  },
  {
   "cell_type": "code",
   "execution_count": 34,
   "id": "f53fd3f6-222b-4511-acdc-c78fd26a6236",
   "metadata": {},
   "outputs": [],
   "source": [
    "def MarriageElegible():\n",
    "    gender = input(\"Enter your gender (Male/Female):\")\n",
    "    age=int(input(\"Your age:\"))\n",
    "    if(gender=='Male'):\n",
    "        if(age >=21):\n",
    "             print('ELIGIBLE')\n",
    "        else:\n",
    "             print('NOT ELIGIBLE')\n",
    "    elif(gender=='Female'):\n",
    "        if(age>=18):\n",
    "             print('ELIGIBLE')\n",
    "        else:\n",
    "             print('NOT ELIGIBLE')"
   ]
  },
  {
   "cell_type": "code",
   "execution_count": 35,
   "id": "fdea81ff-5bc1-4cec-b1cd-b7d789e72390",
   "metadata": {},
   "outputs": [
    {
     "name": "stdin",
     "output_type": "stream",
     "text": [
      "Enter your gender (Male/Female): Male\n",
      "Your age: 20\n"
     ]
    },
    {
     "name": "stdout",
     "output_type": "stream",
     "text": [
      "NOT ELIGIBLE\n"
     ]
    }
   ],
   "source": [
    "MarriageElegible()"
   ]
  },
  {
   "cell_type": "code",
   "execution_count": 45,
   "id": "af2228e4-e57f-4bef-92d0-7c45d35fe7a9",
   "metadata": {},
   "outputs": [],
   "source": [
    "def percentage():\n",
    "    sub1=int(input(\"Subject1= \"))\n",
    "    sub2=int(input(\"Subject2= \"))\n",
    "    sub3=int(input(\"Subject3= \"))\n",
    "    sub4=int(input(\"Subject4= \"))\n",
    "    sub5=int(input(\"Subject5= \"))\n",
    "    Total = sub1+sub2+sub3+sub4+sub5\n",
    "    print(\"Total : \",sub1+sub2+sub3+sub4+sub5)\n",
    "    Percent = (Total / 500) * 100\n",
    "    print(\"Percentage : \",Percent)\n"
   ]
  },
  {
   "cell_type": "code",
   "execution_count": 46,
   "id": "ca75199f-783f-43b6-a893-fadfb0c6d593",
   "metadata": {},
   "outputs": [
    {
     "name": "stdin",
     "output_type": "stream",
     "text": [
      "Subject1=  98\n",
      "Subject2=  87\n",
      "Subject3=  95\n",
      "Subject4=  95\n",
      "Subject5=  93\n"
     ]
    },
    {
     "name": "stdout",
     "output_type": "stream",
     "text": [
      "Total :  468\n",
      "Percentage :  93.60000000000001\n"
     ]
    }
   ],
   "source": [
    "percentage()"
   ]
  },
  {
   "cell_type": "code",
   "execution_count": null,
   "id": "35974208-21a1-4dd2-9342-e107a9a393a3",
   "metadata": {},
   "outputs": [],
   "source": []
  }
 ],
 "metadata": {
  "kernelspec": {
   "display_name": "Python 3 (ipykernel)",
   "language": "python",
   "name": "python3"
  },
  "language_info": {
   "codemirror_mode": {
    "name": "ipython",
    "version": 3
   },
   "file_extension": ".py",
   "mimetype": "text/x-python",
   "name": "python",
   "nbconvert_exporter": "python",
   "pygments_lexer": "ipython3",
   "version": "3.12.7"
  }
 },
 "nbformat": 4,
 "nbformat_minor": 5
}
