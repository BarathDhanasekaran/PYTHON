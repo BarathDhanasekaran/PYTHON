{
 "cells": [
  {
   "cell_type": "code",
   "execution_count": 2,
   "id": "912481f5-486e-4fc9-9df6-27a7da699fc5",
   "metadata": {},
   "outputs": [
    {
     "name": "stdout",
     "output_type": "stream",
     "text": [
      "welcome to assignment-1\n"
     ]
    }
   ],
   "source": [
    "print(\"welcome to assignment-1\")"
   ]
  },
  {
   "cell_type": "code",
   "execution_count": 29,
   "id": "6b77abb8-a7fa-4695-9469-1829f6a8ca9f",
   "metadata": {},
   "outputs": [
    {
     "name": "stdin",
     "output_type": "stream",
     "text": [
      "Num1= 10\n",
      "Num2= 30\n"
     ]
    },
    {
     "name": "stdout",
     "output_type": "stream",
     "text": [
      "40\n"
     ]
    }
   ],
   "source": [
    "Num1=int(input(\"Num1=\"))\n",
    "Num2=int(input(\"Num2=\"))\n",
    "Add=Num1+Num2\n",
    "print(Add)\n",
    "\n",
    "\n",
    "\n",
    "\n"
   ]
  },
  {
   "cell_type": "code",
   "execution_count": 28,
   "id": "c289a259-44e5-466f-82fb-1190d8f7ac39",
   "metadata": {},
   "outputs": [
    {
     "name": "stdin",
     "output_type": "stream",
     "text": [
      "Enter the BMI index: 36\n"
     ]
    },
    {
     "name": "stdout",
     "output_type": "stream",
     "text": [
      "Very overweight\n"
     ]
    }
   ],
   "source": [
    "weight=int(input(\"Enter the BMI index:\"))\n",
    "if(weight<18):\n",
    "    print(\"underweight\")\n",
    "elif(weight<25):\n",
    "    print(\"normalweight\")\n",
    "elif(weight<36):\n",
    "    print(\"overweight\")\n",
    "else:\n",
    "    print(\"Very overweight\")\n"
   ]
  },
  {
   "cell_type": "code",
   "execution_count": null,
   "id": "f118f97b-f6c4-4d51-88a3-a2f8f413394f",
   "metadata": {},
   "outputs": [],
   "source": []
  }
 ],
 "metadata": {
  "kernelspec": {
   "display_name": "Python 3 (ipykernel)",
   "language": "python",
   "name": "python3"
  },
  "language_info": {
   "codemirror_mode": {
    "name": "ipython",
    "version": 3
   },
   "file_extension": ".py",
   "mimetype": "text/x-python",
   "name": "python",
   "nbconvert_exporter": "python",
   "pygments_lexer": "ipython3",
   "version": "3.12.7"
  }
 },
 "nbformat": 4,
 "nbformat_minor": 5
}
